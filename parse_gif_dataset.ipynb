{
 "cells": [
  {
   "cell_type": "code",
   "execution_count": 12,
   "id": "34a3b225-53c2-4c01-8d0e-ea53307c5e7c",
   "metadata": {},
   "outputs": [],
   "source": [
    "import requests\n",
    "import csv\n",
    "import pickle"
   ]
  },
  {
   "cell_type": "code",
   "execution_count": 11,
   "id": "92758c0c-620b-46ed-9248-4849ac84b6b3",
   "metadata": {},
   "outputs": [
    {
     "name": "stderr",
     "output_type": "stream",
     "text": [
      "IOPub data rate exceeded.\n",
      "The Jupyter server will temporarily stop sending output\n",
      "to the client in order to avoid crashing it.\n",
      "To change this limit, set the config variable\n",
      "`--ServerApp.iopub_data_rate_limit`.\n",
      "\n",
      "Current values:\n",
      "ServerApp.iopub_data_rate_limit=1000000.0 (bytes/sec)\n",
      "ServerApp.rate_limit_window=3.0 (secs)\n",
      "\n"
     ]
    }
   ],
   "source": [
    "#DO NOT RUN THIS AS PICKLE FILE HAS ALREADY BEEN GENERATED\n",
    "\n",
    "#obtain a pickle file containing the list of gifs\n",
    "\n",
    "'''\n",
    "with open(\"gif_dataset.tsv\") as gif_tsv:\n",
    "    iterator = csv.reader(gif_tsv, delimiter=\"\\t\")\n",
    "    temp_gif_list = []\n",
    "\n",
    "    i = 0\n",
    "    for row in iterator:\n",
    "        temp_gif_list.append(row)\n",
    "        \n",
    "gif_tsv.close()\n",
    "\n",
    "f = open('gif.pkl', \"wb\")\n",
    "pickle.dump(gif_list,f)\n",
    "'''"
   ]
  },
  {
   "cell_type": "code",
   "execution_count": 13,
   "id": "a0a45b90-e223-4f93-9882-6e6bf46caee3",
   "metadata": {},
   "outputs": [],
   "source": [
    "#contains a list of pairs [link to gif, gif caption]\n",
    "\n",
    "f = open(\"gif.pkl\",\"rb\")\n",
    "gif_list = pickle.load(f)"
   ]
  },
  {
   "cell_type": "code",
   "execution_count": 14,
   "id": "52ce5f9b-204e-495e-94b5-000ba84b0943",
   "metadata": {},
   "outputs": [],
   "source": [
    "#generate gif from list\n",
    "idx_preferred_caption = 100\n",
    "\n",
    "new_gif =  open(f\"{gif_list[idx_preferred_caption][1]}.gif\", \"wb\")\n",
    "new_gif.write(requests.get(gif_list[idx_preferred_caption][0]).content)\n",
    "new_gif.close()"
   ]
  },
  {
   "cell_type": "code",
   "execution_count": null,
   "id": "4d4f4620-1079-4c31-9b53-bcf9d7ae58c2",
   "metadata": {},
   "outputs": [],
   "source": []
  }
 ],
 "metadata": {
  "environment": {
   "kernel": "python3",
   "name": "common-cpu.m109",
   "type": "gcloud",
   "uri": "gcr.io/deeplearning-platform-release/base-cpu:m109"
  },
  "kernelspec": {
   "display_name": "Python 3",
   "language": "python",
   "name": "python3"
  },
  "language_info": {
   "codemirror_mode": {
    "name": "ipython",
    "version": 3
   },
   "file_extension": ".py",
   "mimetype": "text/x-python",
   "name": "python",
   "nbconvert_exporter": "python",
   "pygments_lexer": "ipython3",
   "version": "3.10.11"
  }
 },
 "nbformat": 4,
 "nbformat_minor": 5
}
